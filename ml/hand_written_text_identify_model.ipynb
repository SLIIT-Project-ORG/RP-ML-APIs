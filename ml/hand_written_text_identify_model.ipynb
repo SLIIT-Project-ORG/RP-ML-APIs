{
  "nbformat": 4,
  "nbformat_minor": 0,
  "metadata": {
    "colab": {
      "provenance": []
    },
    "kernelspec": {
      "name": "python3",
      "display_name": "Python 3"
    },
    "language_info": {
      "name": "python"
    }
  },
  "cells": [
    {
      "cell_type": "code",
      "execution_count": 7,
      "metadata": {
        "id": "z8bO_8-2sBfL"
      },
      "outputs": [],
      "source": [
        "import cv2\n",
        "import matplotlib.pyplot as plt\n",
        "import pandas as pd\n",
        "import os\n",
        "import numpy as np"
      ]
    },
    {
      "cell_type": "code",
      "source": [
        "from google.colab import drive\n",
        "drive.mount('/content/drive')"
      ],
      "metadata": {
        "id": "aj2tk_sDsbjn",
        "outputId": "213384fb-5051-465b-a554-56ad575458c8",
        "colab": {
          "base_uri": "https://localhost:8080/"
        }
      },
      "execution_count": 8,
      "outputs": [
        {
          "output_type": "stream",
          "name": "stdout",
          "text": [
            "Drive already mounted at /content/drive; to attempt to forcibly remount, call drive.mount(\"/content/drive\", force_remount=True).\n"
          ]
        }
      ]
    },
    {
      "cell_type": "code",
      "source": [
        "df = pd.read_csv('/content/drive/MyDrive/Notebooks/OCR_course/data/Book1.csv')"
      ],
      "metadata": {
        "id": "ViYmz0Zos0Ix"
      },
      "execution_count": 9,
      "outputs": []
    },
    {
      "cell_type": "code",
      "source": [
        "df.tail()"
      ],
      "metadata": {
        "id": "E4q0G4eC2eMS",
        "colab": {
          "base_uri": "https://localhost:8080/",
          "height": 206
        },
        "outputId": "9a89e8eb-a434-49af-938c-33fb8f6f2dfd"
      },
      "execution_count": 10,
      "outputs": [
        {
          "output_type": "execute_result",
          "data": {
            "text/plain": [
              "     Image Label       Unnamed: 2\n",
              "41  35.jpg    Gn               Gn\n",
              "42  36.jpg    Sk  ශර්කරා දී කල්කය\n",
              "43  37.jpg    BL       බලා රිෂ්ටය\n",
              "44  38.jpg    LE               LE\n",
              "45  39.jpg    Cu               CU"
            ],
            "text/html": [
              "\n",
              "\n",
              "  <div id=\"df-4d9ce091-d121-4fd5-a605-0a97a9d9b10d\">\n",
              "    <div class=\"colab-df-container\">\n",
              "      <div>\n",
              "<style scoped>\n",
              "    .dataframe tbody tr th:only-of-type {\n",
              "        vertical-align: middle;\n",
              "    }\n",
              "\n",
              "    .dataframe tbody tr th {\n",
              "        vertical-align: top;\n",
              "    }\n",
              "\n",
              "    .dataframe thead th {\n",
              "        text-align: right;\n",
              "    }\n",
              "</style>\n",
              "<table border=\"1\" class=\"dataframe\">\n",
              "  <thead>\n",
              "    <tr style=\"text-align: right;\">\n",
              "      <th></th>\n",
              "      <th>Image</th>\n",
              "      <th>Label</th>\n",
              "      <th>Unnamed: 2</th>\n",
              "    </tr>\n",
              "  </thead>\n",
              "  <tbody>\n",
              "    <tr>\n",
              "      <th>41</th>\n",
              "      <td>35.jpg</td>\n",
              "      <td>Gn</td>\n",
              "      <td>Gn</td>\n",
              "    </tr>\n",
              "    <tr>\n",
              "      <th>42</th>\n",
              "      <td>36.jpg</td>\n",
              "      <td>Sk</td>\n",
              "      <td>ශර්කරා දී කල්කය</td>\n",
              "    </tr>\n",
              "    <tr>\n",
              "      <th>43</th>\n",
              "      <td>37.jpg</td>\n",
              "      <td>BL</td>\n",
              "      <td>බලා රිෂ්ටය</td>\n",
              "    </tr>\n",
              "    <tr>\n",
              "      <th>44</th>\n",
              "      <td>38.jpg</td>\n",
              "      <td>LE</td>\n",
              "      <td>LE</td>\n",
              "    </tr>\n",
              "    <tr>\n",
              "      <th>45</th>\n",
              "      <td>39.jpg</td>\n",
              "      <td>Cu</td>\n",
              "      <td>CU</td>\n",
              "    </tr>\n",
              "  </tbody>\n",
              "</table>\n",
              "</div>\n",
              "      <button class=\"colab-df-convert\" onclick=\"convertToInteractive('df-4d9ce091-d121-4fd5-a605-0a97a9d9b10d')\"\n",
              "              title=\"Convert this dataframe to an interactive table.\"\n",
              "              style=\"display:none;\">\n",
              "\n",
              "  <svg xmlns=\"http://www.w3.org/2000/svg\" height=\"24px\"viewBox=\"0 0 24 24\"\n",
              "       width=\"24px\">\n",
              "    <path d=\"M0 0h24v24H0V0z\" fill=\"none\"/>\n",
              "    <path d=\"M18.56 5.44l.94 2.06.94-2.06 2.06-.94-2.06-.94-.94-2.06-.94 2.06-2.06.94zm-11 1L8.5 8.5l.94-2.06 2.06-.94-2.06-.94L8.5 2.5l-.94 2.06-2.06.94zm10 10l.94 2.06.94-2.06 2.06-.94-2.06-.94-.94-2.06-.94 2.06-2.06.94z\"/><path d=\"M17.41 7.96l-1.37-1.37c-.4-.4-.92-.59-1.43-.59-.52 0-1.04.2-1.43.59L10.3 9.45l-7.72 7.72c-.78.78-.78 2.05 0 2.83L4 21.41c.39.39.9.59 1.41.59.51 0 1.02-.2 1.41-.59l7.78-7.78 2.81-2.81c.8-.78.8-2.07 0-2.86zM5.41 20L4 18.59l7.72-7.72 1.47 1.35L5.41 20z\"/>\n",
              "  </svg>\n",
              "      </button>\n",
              "\n",
              "\n",
              "\n",
              "    <div id=\"df-12b934b3-4869-4e78-9ce3-c6acb6137563\">\n",
              "      <button class=\"colab-df-quickchart\" onclick=\"quickchart('df-12b934b3-4869-4e78-9ce3-c6acb6137563')\"\n",
              "              title=\"Suggest charts.\"\n",
              "              style=\"display:none;\">\n",
              "\n",
              "<svg xmlns=\"http://www.w3.org/2000/svg\" height=\"24px\"viewBox=\"0 0 24 24\"\n",
              "     width=\"24px\">\n",
              "    <g>\n",
              "        <path d=\"M19 3H5c-1.1 0-2 .9-2 2v14c0 1.1.9 2 2 2h14c1.1 0 2-.9 2-2V5c0-1.1-.9-2-2-2zM9 17H7v-7h2v7zm4 0h-2V7h2v10zm4 0h-2v-4h2v4z\"/>\n",
              "    </g>\n",
              "</svg>\n",
              "      </button>\n",
              "    </div>\n",
              "\n",
              "<style>\n",
              "  .colab-df-quickchart {\n",
              "    background-color: #E8F0FE;\n",
              "    border: none;\n",
              "    border-radius: 50%;\n",
              "    cursor: pointer;\n",
              "    display: none;\n",
              "    fill: #1967D2;\n",
              "    height: 32px;\n",
              "    padding: 0 0 0 0;\n",
              "    width: 32px;\n",
              "  }\n",
              "\n",
              "  .colab-df-quickchart:hover {\n",
              "    background-color: #E2EBFA;\n",
              "    box-shadow: 0px 1px 2px rgba(60, 64, 67, 0.3), 0px 1px 3px 1px rgba(60, 64, 67, 0.15);\n",
              "    fill: #174EA6;\n",
              "  }\n",
              "\n",
              "  [theme=dark] .colab-df-quickchart {\n",
              "    background-color: #3B4455;\n",
              "    fill: #D2E3FC;\n",
              "  }\n",
              "\n",
              "  [theme=dark] .colab-df-quickchart:hover {\n",
              "    background-color: #434B5C;\n",
              "    box-shadow: 0px 1px 3px 1px rgba(0, 0, 0, 0.15);\n",
              "    filter: drop-shadow(0px 1px 2px rgba(0, 0, 0, 0.3));\n",
              "    fill: #FFFFFF;\n",
              "  }\n",
              "</style>\n",
              "\n",
              "    <script>\n",
              "      async function quickchart(key) {\n",
              "        const containerElement = document.querySelector('#' + key);\n",
              "        const charts = await google.colab.kernel.invokeFunction(\n",
              "            'suggestCharts', [key], {});\n",
              "      }\n",
              "    </script>\n",
              "\n",
              "      <script>\n",
              "\n",
              "function displayQuickchartButton(domScope) {\n",
              "  let quickchartButtonEl =\n",
              "    domScope.querySelector('#df-12b934b3-4869-4e78-9ce3-c6acb6137563 button.colab-df-quickchart');\n",
              "  quickchartButtonEl.style.display =\n",
              "    google.colab.kernel.accessAllowed ? 'block' : 'none';\n",
              "}\n",
              "\n",
              "        displayQuickchartButton(document);\n",
              "      </script>\n",
              "      <style>\n",
              "    .colab-df-container {\n",
              "      display:flex;\n",
              "      flex-wrap:wrap;\n",
              "      gap: 12px;\n",
              "    }\n",
              "\n",
              "    .colab-df-convert {\n",
              "      background-color: #E8F0FE;\n",
              "      border: none;\n",
              "      border-radius: 50%;\n",
              "      cursor: pointer;\n",
              "      display: none;\n",
              "      fill: #1967D2;\n",
              "      height: 32px;\n",
              "      padding: 0 0 0 0;\n",
              "      width: 32px;\n",
              "    }\n",
              "\n",
              "    .colab-df-convert:hover {\n",
              "      background-color: #E2EBFA;\n",
              "      box-shadow: 0px 1px 2px rgba(60, 64, 67, 0.3), 0px 1px 3px 1px rgba(60, 64, 67, 0.15);\n",
              "      fill: #174EA6;\n",
              "    }\n",
              "\n",
              "    [theme=dark] .colab-df-convert {\n",
              "      background-color: #3B4455;\n",
              "      fill: #D2E3FC;\n",
              "    }\n",
              "\n",
              "    [theme=dark] .colab-df-convert:hover {\n",
              "      background-color: #434B5C;\n",
              "      box-shadow: 0px 1px 3px 1px rgba(0, 0, 0, 0.15);\n",
              "      filter: drop-shadow(0px 1px 2px rgba(0, 0, 0, 0.3));\n",
              "      fill: #FFFFFF;\n",
              "    }\n",
              "  </style>\n",
              "\n",
              "      <script>\n",
              "        const buttonEl =\n",
              "          document.querySelector('#df-4d9ce091-d121-4fd5-a605-0a97a9d9b10d button.colab-df-convert');\n",
              "        buttonEl.style.display =\n",
              "          google.colab.kernel.accessAllowed ? 'block' : 'none';\n",
              "\n",
              "        async function convertToInteractive(key) {\n",
              "          const element = document.querySelector('#df-4d9ce091-d121-4fd5-a605-0a97a9d9b10d');\n",
              "          const dataTable =\n",
              "            await google.colab.kernel.invokeFunction('convertToInteractive',\n",
              "                                                     [key], {});\n",
              "          if (!dataTable) return;\n",
              "\n",
              "          const docLinkHtml = 'Like what you see? Visit the ' +\n",
              "            '<a target=\"_blank\" href=https://colab.research.google.com/notebooks/data_table.ipynb>data table notebook</a>'\n",
              "            + ' to learn more about interactive tables.';\n",
              "          element.innerHTML = '';\n",
              "          dataTable['output_type'] = 'display_data';\n",
              "          await google.colab.output.renderOutput(dataTable, element);\n",
              "          const docLink = document.createElement('div');\n",
              "          docLink.innerHTML = docLinkHtml;\n",
              "          element.appendChild(docLink);\n",
              "        }\n",
              "      </script>\n",
              "    </div>\n",
              "  </div>\n"
            ]
          },
          "metadata": {},
          "execution_count": 10
        }
      ]
    },
    {
      "cell_type": "code",
      "source": [
        "dir = '/content/drive/MyDrive/Notebooks/OCR_course/data/dataset'"
      ],
      "metadata": {
        "id": "Ej8SXLpT23FC"
      },
      "execution_count": 11,
      "outputs": []
    },
    {
      "cell_type": "code",
      "source": [
        "img_size_w =50\n",
        "img_size_h =20\n",
        "\n",
        "img_list = []\n",
        "\n",
        "for img in os.listdir(dir):\n",
        "  img_array =cv2.imread(os.path.join(dir,img),cv2.IMREAD_GRAYSCALE)\n",
        "  new_array =cv2.resize(img_array, (img_size_w,img_size_h))\n",
        "  img_list.append((img,new_array))"
      ],
      "metadata": {
        "id": "6SqOJcsK3UFI"
      },
      "execution_count": null,
      "outputs": []
    },
    {
      "cell_type": "code",
      "source": [
        "#print(img_list[0])"
      ],
      "metadata": {
        "id": "8TmKwUNG5WaW"
      },
      "execution_count": null,
      "outputs": []
    },
    {
      "cell_type": "code",
      "source": [
        "def get_array(name):\n",
        "  for image,array in img_list:\n",
        "    if name == image:\n",
        "      return array"
      ],
      "metadata": {
        "id": "SODVPH_U6RI6"
      },
      "execution_count": null,
      "outputs": []
    },
    {
      "cell_type": "code",
      "source": [
        "df['Array'] = df['Image'].apply(get_array)"
      ],
      "metadata": {
        "id": "49Zbk-g87CdB"
      },
      "execution_count": null,
      "outputs": []
    },
    {
      "cell_type": "code",
      "source": [
        "df.tail()"
      ],
      "metadata": {
        "id": "xFfZZWJR78bC"
      },
      "execution_count": null,
      "outputs": []
    },
    {
      "cell_type": "code",
      "source": [
        "plt.imshow(img_list[1][1], cmap='gray')"
      ],
      "metadata": {
        "id": "bSUsIZXG_4Jg"
      },
      "execution_count": null,
      "outputs": []
    },
    {
      "cell_type": "code",
      "source": [
        "from sklearn.preprocessing import LabelEncoder, OneHotEncoder"
      ],
      "metadata": {
        "id": "lCIeyxN8AZXC"
      },
      "execution_count": null,
      "outputs": []
    },
    {
      "cell_type": "code",
      "source": [
        "df['Label Class'] = df['Label']"
      ],
      "metadata": {
        "id": "7hTtioqzA4l0"
      },
      "execution_count": null,
      "outputs": []
    },
    {
      "cell_type": "code",
      "source": [
        "label_encoder = LabelEncoder()\n",
        "df['Label Class'] = label_encoder.fit_transform(df['Label Class'])"
      ],
      "metadata": {
        "id": "TNbEP059BX8N"
      },
      "execution_count": null,
      "outputs": []
    },
    {
      "cell_type": "code",
      "source": [
        "print ('total Classes', label_encoder.classes_)\n",
        "print ('total length of classes' , len(label_encoder.classes_))\n",
        "output_Classes = len(label_encoder.classes_)"
      ],
      "metadata": {
        "id": "jf9vjpRUBojn"
      },
      "execution_count": null,
      "outputs": []
    },
    {
      "cell_type": "code",
      "source": [
        "Label_classes = label_encoder.classes_\n",
        "print(Label_classes)"
      ],
      "metadata": {
        "id": "WIsa6UcOCY46"
      },
      "execution_count": null,
      "outputs": []
    },
    {
      "cell_type": "code",
      "source": [
        "import pickle\n",
        "\n",
        "# Specify the file path with the .pkl extension\n",
        "output_file_path = 'label_encoder.pkl'\n",
        "\n",
        "# Saving the object to a file using pickle\n",
        "with open(output_file_path, 'wb') as f:\n",
        "    pickle.dump(label_encoder, f)\n"
      ],
      "metadata": {
        "id": "iFDMyS2hG6eR"
      },
      "execution_count": null,
      "outputs": []
    },
    {
      "cell_type": "code",
      "source": [
        "df.tail()"
      ],
      "metadata": {
        "id": "pB2m8vj_HrsG"
      },
      "execution_count": null,
      "outputs": []
    },
    {
      "cell_type": "code",
      "source": [
        "print(df.columns)\n"
      ],
      "metadata": {
        "id": "uv8VeL5KJq6e"
      },
      "execution_count": null,
      "outputs": []
    },
    {
      "cell_type": "code",
      "source": [
        "onehot = OneHotEncoder()\n",
        "labels = onehot.fit_transform(df['Label Class'].values.reshape(-1, 1)).toarray()\n"
      ],
      "metadata": {
        "id": "aNTmaeBhH8nU"
      },
      "execution_count": null,
      "outputs": []
    },
    {
      "cell_type": "code",
      "source": [
        "print(labels[1])"
      ],
      "metadata": {
        "id": "91HF9sliLooq"
      },
      "execution_count": null,
      "outputs": []
    },
    {
      "cell_type": "code",
      "source": [
        "\n",
        "training_set =df['Array']\n",
        "train_set = []\n",
        "for img in training_set:\n",
        "  img = img.reshape(img_size_w,img_size_h,1)\n",
        "  train_set.append(img)\n",
        "train_set = np.array(train_set)\n",
        "\n",
        "\n",
        "\n"
      ],
      "metadata": {
        "id": "Rjm8SJd5MAiz"
      },
      "execution_count": null,
      "outputs": []
    },
    {
      "cell_type": "code",
      "source": [
        "train_set.shape"
      ],
      "metadata": {
        "id": "nc17Gk2GQzeD"
      },
      "execution_count": null,
      "outputs": []
    },
    {
      "cell_type": "code",
      "source": [
        "train_labels = df['Label Class'].values\n"
      ],
      "metadata": {
        "id": "9ydlQmCJzjWM"
      },
      "execution_count": null,
      "outputs": []
    },
    {
      "cell_type": "code",
      "source": [
        "from tensorflow.keras.layers import Input,Conv2D, Dense, Flatten, Dropout, MaxPooling2D,BatchNormalization,GlobalMaxPooling2D\n",
        "from tensorflow.keras.models import Model\n",
        "\n",
        "i = Input(shape=(img_size_w,img_size_h,1))\n",
        "x = Conv2D(32,(3,3),activation = 'relu', padding ='same') (i)\n",
        "x= BatchNormalization()(x)\n",
        "x = Conv2D(32,(3,3),activation = 'relu', padding ='same') (x)\n",
        "x= BatchNormalization()(x)\n",
        "x= MaxPooling2D((2,2))(x)\n",
        "x=Dropout(0.2)(x)\n",
        "\n",
        "\n",
        "x = Conv2D(64,(3,3),activation = 'relu', padding ='same') (x)\n",
        "x= BatchNormalization()(x)\n",
        "x = Conv2D(64,(3,3),activation = 'relu', padding ='same') (x)\n",
        "x= BatchNormalization()(x)\n",
        "x= MaxPooling2D((2,2))(x)\n",
        "x=Dropout(0.2)(x)\n",
        "\n",
        "\n",
        "x = GlobalMaxPooling2D()(x)\n",
        "\n",
        "x= Flatten()(x)\n",
        "\n",
        "x = Dropout(0.2)(x)\n",
        "x=Dense(1024,activation='relu')(x)\n",
        "x=Dropout(0.2)(x)\n",
        "x=Dense(output_Classes,activation='softmax')(x)\n",
        "\n"
      ],
      "metadata": {
        "id": "nA_EmZpP2Q-u"
      },
      "execution_count": null,
      "outputs": []
    },
    {
      "cell_type": "code",
      "source": [
        "model = Model(i,x)"
      ],
      "metadata": {
        "id": "rG1fCaBs2hEG"
      },
      "execution_count": null,
      "outputs": []
    },
    {
      "cell_type": "code",
      "source": [
        "model.compile(optimizer ='adam',loss='categorical_crossentropy',metrics=['accuracy'])"
      ],
      "metadata": {
        "id": "0wCncJJC42NX"
      },
      "execution_count": null,
      "outputs": []
    },
    {
      "cell_type": "code",
      "source": [
        "print(len(train_set))\n",
        "print(len(labels))\n"
      ],
      "metadata": {
        "id": "3Z6mp23l6hXk"
      },
      "execution_count": null,
      "outputs": []
    },
    {
      "cell_type": "code",
      "source": [
        "train_set_length = len(train_set)\n",
        "labels_length = len(labels)\n",
        "\n",
        "print(f\"Number of samples in train_set: {train_set_length}\")\n",
        "print(f\"Number of samples in labels: {labels_length}\")\n",
        "\n",
        "if train_set_length != labels_length:\n",
        "    print(\"Mismatch: The number of samples in train_set and labels is different.\")\n",
        "else:\n",
        "    print(\"No mismatch: The number of samples in train_set and labels is the same.\")\n"
      ],
      "metadata": {
        "id": "ZkEH7F477AFW"
      },
      "execution_count": null,
      "outputs": []
    },
    {
      "cell_type": "code",
      "source": [
        "train_set_length = len(train_set)\n",
        "labels_length = len(labels)\n",
        "\n",
        "print(f\"Number of samples in train_set: {train_set_length}\")\n",
        "print(f\"Number of samples in labels: {labels_length}\")\n"
      ],
      "metadata": {
        "id": "N8H_ZPkh7R_A"
      },
      "execution_count": null,
      "outputs": []
    },
    {
      "cell_type": "code",
      "source": [
        "r = model.fit(train_set,labels, epochs=500, batch_size=42,validation_split=0.2)"
      ],
      "metadata": {
        "id": "31xDHkAv5PPo"
      },
      "execution_count": null,
      "outputs": []
    },
    {
      "cell_type": "code",
      "source": [
        "model.save('handwrite_model.h5')"
      ],
      "metadata": {
        "id": "pJ26fJu8LfWr"
      },
      "execution_count": null,
      "outputs": []
    },
    {
      "cell_type": "code",
      "source": [
        "img = '/content/drive/MyDrive/Notebooks/OCR_course/data/dataset/39.jpg'"
      ],
      "metadata": {
        "id": "0ckLYCosLuW6"
      },
      "execution_count": null,
      "outputs": []
    },
    {
      "cell_type": "code",
      "source": [
        "img_array = cv2.imread(img,cv2.IMREAD_GRAYSCALE)\n",
        "new_array = cv2.resize(img_array,(img_size_w,img_size_h))\n",
        "array = new_array.reshape(-1,img_size_w,img_size_h,1)\n",
        "pred =model.predict(array)\n",
        "y=np.argmax(pred)"
      ],
      "metadata": {
        "id": "uHhZsuEBtyQ2"
      },
      "execution_count": null,
      "outputs": []
    },
    {
      "cell_type": "code",
      "source": [
        "print(y)\n",
        "label_encoder.classes_[y]"
      ],
      "metadata": {
        "id": "kUYU1pDwu-6E"
      },
      "execution_count": null,
      "outputs": []
    },
    {
      "cell_type": "code",
      "source": [
        "import cv2\n",
        "import numpy as np\n",
        "\n",
        "# Assuming img_size_w, img_size_h, model, and label_encoder are defined as before\n",
        "# dir is the path to the directory containing all the images you want to predict\n",
        "dir = '/content/drive/MyDrive/Notebooks/OCR_course/data/dataset'\n",
        "\n",
        "predicted_values = []\n",
        "\n",
        "for img_name in os.listdir(dir):\n",
        "    # Load and preprocess the image\n",
        "    img_path = os.path.join(dir, img_name)\n",
        "    img_array = cv2.imread(img_path, cv2.IMREAD_GRAYSCALE)\n",
        "    new_array = cv2.resize(img_array, (img_size_w, img_size_h))\n",
        "    array = new_array.reshape(-1, img_size_w, img_size_h, 1)\n",
        "\n",
        "    # Make prediction using the model\n",
        "    pred = model.predict(array)\n",
        "\n",
        "    # Get the predicted class index\n",
        "    y = np.argmax(pred)\n",
        "\n",
        "    # Get the corresponding class label from label_encoder.classes_\n",
        "    predicted_class = label_encoder.classes_[y]\n",
        "\n",
        "    # Append the predicted class label to the list\n",
        "    predicted_values.append(predicted_class)\n",
        "\n",
        "print(predicted_values)\n"
      ],
      "metadata": {
        "id": "4T06KzcwHM7F"
      },
      "execution_count": null,
      "outputs": []
    },
    {
      "cell_type": "code",
      "source": [
        "import cv2\n",
        "import numpy as np\n",
        "import os\n",
        "import matplotlib.pyplot as plt\n",
        "\n",
        "# Assuming img_size_w, img_size_h, model, and label_encoder are defined as before\n",
        "# dir is the path to the directory containing all the images you want to predict\n",
        "dir = '/content/drive/MyDrive/Notebooks/OCR_course/data/dataset'\n",
        "\n",
        "predicted_values = []\n",
        "\n",
        "# Set a common figure size for visualization\n",
        "plt.figure(figsize=(8, 6))\n",
        "\n",
        "for img_name in os.listdir(dir):\n",
        "    # Load and preprocess the image\n",
        "    img_path = os.path.join(dir, img_name)\n",
        "    img_array = cv2.imread(img_path, cv2.IMREAD_GRAYSCALE)\n",
        "    new_array = cv2.resize(img_array, (img_size_w, img_size_h))\n",
        "    array = new_array.reshape(-1, img_size_w, img_size_h, 1)\n",
        "\n",
        "    # Make prediction using the model\n",
        "    pred = model.predict(array)\n",
        "\n",
        "    # Get the predicted class index\n",
        "    y = np.argmax(pred)\n",
        "\n",
        "    # Get the corresponding class label from label_encoder.classes_\n",
        "    predicted_class = label_encoder.classes_[y]\n",
        "\n",
        "    # Append the predicted class label to the list\n",
        "    predicted_values.append(predicted_class)\n",
        "\n",
        "    # Visualize the image with the predicted label\n",
        "    plt.imshow(img_array, cmap='gray')\n",
        "    plt.title(f\"Predicted: {predicted_class}\")\n",
        "    plt.axis('off')\n",
        "    plt.show()\n",
        "\n",
        "print(predicted_values)\n"
      ],
      "metadata": {
        "id": "nieWljmEILLj"
      },
      "execution_count": null,
      "outputs": []
    },
    {
      "cell_type": "code",
      "source": [
        "import cv2\n",
        "import numpy as np\n",
        "import os\n",
        "import matplotlib.pyplot as plt\n",
        "\n",
        "# Assuming img_size_w, img_size_h, model, and label_encoder are defined as before\n",
        "# dir is the path to the directory containing all the images you want to predict\n",
        "dir = '/content/drive/MyDrive/Notebooks/OCR_course/data/dataset'\n",
        "\n",
        "# Define the size of the grid (3 rows x n_cols)\n",
        "n_cols = 3\n",
        "\n",
        "# Initialize an empty list to store the predicted values\n",
        "predicted_values = []\n",
        "\n",
        "# Get the number of images in the directory\n",
        "num_images = len(os.listdir(dir))\n",
        "\n",
        "# Calculate the number of rows required for the grid\n",
        "n_rows = (num_images + n_cols - 1) // n_cols\n",
        "\n",
        "# Create a new figure\n",
        "plt.figure(figsize=(10, 7))\n",
        "\n",
        "for idx, img_name in enumerate(os.listdir(dir)):\n",
        "    # Load and preprocess the image\n",
        "    img_path = os.path.join(dir, img_name)\n",
        "    img_array = cv2.imread(img_path, cv2.IMREAD_GRAYSCALE)\n",
        "    new_array = cv2.resize(img_array, (img_size_w, img_size_h))\n",
        "    array = new_array.reshape(-1, img_size_w, img_size_h, 1)\n",
        "\n",
        "    # Make prediction using the model\n",
        "    pred = model.predict(array)\n",
        "\n",
        "    # Get the predicted class index\n",
        "    y = np.argmax(pred)\n",
        "\n",
        "    # Get the corresponding class label from label_encoder.classes_\n",
        "    predicted_class = label_encoder.classes_[y]\n",
        "\n",
        "    # Append the predicted class label to the list\n",
        "    predicted_values.append(predicted_class)\n",
        "\n",
        "    # Plot the image with the predicted label in a subplot\n",
        "    plt.subplot(n_rows, n_cols, idx + 1)\n",
        "    plt.imshow(img_array, cmap='gray')\n",
        "    plt.title(f\"Predicted: {predicted_class}\")\n",
        "    plt.axis('off')\n",
        "\n",
        "# Adjust spacing between subplots\n",
        "plt.tight_layout()\n",
        "\n",
        "# Show the plot\n",
        "plt.show()\n",
        "\n",
        "print(predicted_values)\n"
      ],
      "metadata": {
        "id": "9ybzfgPnI9i5"
      },
      "execution_count": null,
      "outputs": []
    }
  ]
}